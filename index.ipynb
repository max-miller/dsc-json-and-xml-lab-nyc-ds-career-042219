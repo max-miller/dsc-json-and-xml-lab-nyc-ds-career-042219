{
 "cells": [
  {
   "cell_type": "markdown",
   "metadata": {},
   "source": [
    "# JSON and XML - Lab"
   ]
  },
  {
   "cell_type": "markdown",
   "metadata": {},
   "source": [
    "## Introduction\n",
    "\n",
    "In this lab, you'll practice navigating JSON and XML data structures."
   ]
  },
  {
   "cell_type": "markdown",
   "metadata": {},
   "source": [
    "## Objectives\n",
    "You will be able to:\n",
    "* Effectively use the JSON module to load and parse JSON documents\n",
    "* Read and access data stored in JSON and XML\n",
    "* Compare  and contrast the JSON and XML as data interchange types\n"
   ]
  },
  {
   "cell_type": "markdown",
   "metadata": {},
   "source": [
    "## XML"
   ]
  },
  {
   "cell_type": "code",
   "execution_count": 1,
   "metadata": {},
   "outputs": [],
   "source": [
    "import xml.etree.ElementTree as ET"
   ]
  },
  {
   "cell_type": "markdown",
   "metadata": {},
   "source": [
    "### Create an XML tree and retrieve the root tag."
   ]
  },
  {
   "cell_type": "code",
   "execution_count": 2,
   "metadata": {},
   "outputs": [],
   "source": [
    "tree = ET.parse('nyc_2001_campaign_finance.xml')\n",
    "root = tree.getroot()"
   ]
  },
  {
   "cell_type": "markdown",
   "metadata": {},
   "source": [
    "### How many direct descendents does the root tag have?"
   ]
  },
  {
   "cell_type": "code",
   "execution_count": 3,
   "metadata": {},
   "outputs": [
    {
     "name": "stdout",
     "output_type": "stream",
     "text": [
      "row\n"
     ]
    }
   ],
   "source": [
    "#Answer: 1\n",
    "for child in root:\n",
    "    print(child.tag)"
   ]
  },
  {
   "cell_type": "markdown",
   "metadata": {},
   "source": [
    "### How many different types of tags are there within the entire XML file?"
   ]
  },
  {
   "cell_type": "code",
   "execution_count": 6,
   "metadata": {},
   "outputs": [
    {
     "name": "stdout",
     "output_type": "stream",
     "text": [
      "child: row\n",
      "grandchild: 4 tags\n",
      "grandchild: 10 tags\n",
      "grandchild: 10 tags\n",
      "grandchild: 10 tags\n",
      "grandchild: 10 tags\n",
      "grandchild: 10 tags\n",
      "grandchild: 10 tags\n",
      "grandchild: 10 tags\n",
      "grandchild: 10 tags\n",
      "grandchild: 10 tags\n",
      "grandchild: 10 tags\n",
      "grandchild: 10 tags\n",
      "grandchild: 9 tags\n",
      "grandchild: 10 tags\n",
      "grandchild: 10 tags\n",
      "grandchild: 10 tags\n",
      "grandchild: 10 tags\n",
      "grandchild: 10 tags\n",
      "grandchild: 10 tags\n",
      "grandchild: 9 tags\n",
      "grandchild: 10 tags\n",
      "grandchild: 10 tags\n",
      "grandchild: 10 tags\n",
      "grandchild: 10 tags\n",
      "grandchild: 10 tags\n",
      "grandchild: 10 tags\n",
      "grandchild: 10 tags\n",
      "grandchild: 10 tags\n",
      "grandchild: 10 tags\n",
      "grandchild: 10 tags\n",
      "grandchild: 10 tags\n",
      "grandchild: 10 tags\n",
      "grandchild: 10 tags\n",
      "grandchild: 10 tags\n",
      "grandchild: 10 tags\n",
      "grandchild: 10 tags\n",
      "grandchild: 10 tags\n",
      "grandchild: 10 tags\n",
      "grandchild: 10 tags\n",
      "grandchild: 10 tags\n",
      "grandchild: 10 tags\n",
      "grandchild: 10 tags\n",
      "grandchild: 10 tags\n",
      "grandchild: 10 tags\n",
      "grandchild: 10 tags\n",
      "grandchild: 9 tags\n",
      "grandchild: 10 tags\n",
      "grandchild: 10 tags\n",
      "grandchild: 10 tags\n",
      "grandchild: 10 tags\n",
      "grandchild: 10 tags\n",
      "grandchild: 10 tags\n",
      "grandchild: 10 tags\n",
      "grandchild: 10 tags\n",
      "grandchild: 10 tags\n",
      "grandchild: 10 tags\n",
      "grandchild: 10 tags\n",
      "grandchild: 10 tags\n",
      "grandchild: 10 tags\n",
      "grandchild: 9 tags\n",
      "grandchild: 10 tags\n",
      "grandchild: 10 tags\n",
      "grandchild: 10 tags\n",
      "grandchild: 10 tags\n",
      "grandchild: 10 tags\n",
      "grandchild: 10 tags\n",
      "grandchild: 10 tags\n",
      "grandchild: 10 tags\n",
      "grandchild: 10 tags\n",
      "grandchild: 10 tags\n",
      "grandchild: 10 tags\n",
      "grandchild: 10 tags\n",
      "grandchild: 10 tags\n",
      "grandchild: 9 tags\n",
      "grandchild: 10 tags\n",
      "grandchild: 10 tags\n",
      "grandchild: 10 tags\n",
      "grandchild: 10 tags\n",
      "grandchild: 9 tags\n",
      "grandchild: 10 tags\n",
      "grandchild: 10 tags\n",
      "grandchild: 10 tags\n",
      "grandchild: 10 tags\n",
      "grandchild: 10 tags\n",
      "grandchild: 9 tags\n",
      "grandchild: 10 tags\n",
      "grandchild: 10 tags\n",
      "grandchild: 10 tags\n",
      "grandchild: 10 tags\n",
      "grandchild: 10 tags\n",
      "grandchild: 10 tags\n",
      "grandchild: 10 tags\n",
      "grandchild: 10 tags\n",
      "grandchild: 9 tags\n",
      "grandchild: 10 tags\n",
      "grandchild: 10 tags\n",
      "grandchild: 9 tags\n",
      "grandchild: 10 tags\n",
      "grandchild: 10 tags\n",
      "grandchild: 9 tags\n",
      "grandchild: 10 tags\n",
      "grandchild: 10 tags\n",
      "grandchild: 10 tags\n",
      "grandchild: 10 tags\n",
      "grandchild: 10 tags\n",
      "grandchild: 10 tags\n",
      "grandchild: 10 tags\n",
      "grandchild: 10 tags\n",
      "grandchild: 9 tags\n",
      "grandchild: 10 tags\n",
      "grandchild: 10 tags\n",
      "grandchild: 10 tags\n",
      "grandchild: 10 tags\n",
      "grandchild: 10 tags\n",
      "grandchild: 10 tags\n",
      "grandchild: 10 tags\n",
      "grandchild: 10 tags\n",
      "grandchild: 10 tags\n",
      "grandchild: 10 tags\n",
      "grandchild: 10 tags\n",
      "grandchild: 10 tags\n",
      "grandchild: 10 tags\n",
      "grandchild: 10 tags\n",
      "grandchild: 10 tags\n",
      "grandchild: 10 tags\n",
      "grandchild: 10 tags\n",
      "grandchild: 10 tags\n",
      "grandchild: 10 tags\n",
      "grandchild: 10 tags\n",
      "grandchild: 10 tags\n",
      "grandchild: 10 tags\n",
      "grandchild: 10 tags\n",
      "grandchild: 10 tags\n",
      "grandchild: 10 tags\n",
      "grandchild: 10 tags\n",
      "grandchild: 10 tags\n",
      "grandchild: 9 tags\n",
      "grandchild: 10 tags\n",
      "grandchild: 10 tags\n",
      "grandchild: 10 tags\n",
      "grandchild: 10 tags\n",
      "grandchild: 9 tags\n",
      "grandchild: 10 tags\n",
      "grandchild: 10 tags\n",
      "grandchild: 10 tags\n",
      "grandchild: 10 tags\n",
      "grandchild: 10 tags\n",
      "grandchild: 10 tags\n",
      "grandchild: 10 tags\n",
      "grandchild: 10 tags\n",
      "grandchild: 10 tags\n",
      "grandchild: 10 tags\n",
      "grandchild: 10 tags\n",
      "grandchild: 10 tags\n",
      "grandchild: 10 tags\n",
      "grandchild: 10 tags\n",
      "grandchild: 10 tags\n",
      "grandchild: 10 tags\n",
      "grandchild: 10 tags\n",
      "grandchild: 10 tags\n",
      "grandchild: 10 tags\n",
      "grandchild: 10 tags\n",
      "grandchild: 10 tags\n",
      "grandchild: 10 tags\n",
      "grandchild: 10 tags\n",
      "grandchild: 10 tags\n",
      "grandchild: 10 tags\n",
      "grandchild: 10 tags\n",
      "grandchild: 10 tags\n",
      "grandchild: 10 tags\n",
      "grandchild: 10 tags\n",
      "grandchild: 10 tags\n",
      "grandchild: 10 tags\n",
      "grandchild: 10 tags\n",
      "grandchild: 10 tags\n",
      "grandchild: 10 tags\n",
      "grandchild: 10 tags\n",
      "grandchild: 10 tags\n",
      "grandchild: 10 tags\n",
      "grandchild: 10 tags\n",
      "grandchild: 10 tags\n",
      "grandchild: 10 tags\n",
      "grandchild: 10 tags\n",
      "grandchild: 10 tags\n",
      "grandchild: 10 tags\n",
      "grandchild: 10 tags\n",
      "grandchild: 10 tags\n",
      "grandchild: 10 tags\n",
      "grandchild: 10 tags\n",
      "grandchild: 10 tags\n",
      "grandchild: 10 tags\n",
      "grandchild: 10 tags\n",
      "grandchild: 10 tags\n",
      "grandchild: 10 tags\n",
      "grandchild: 10 tags\n",
      "grandchild: 10 tags\n",
      "grandchild: 10 tags\n",
      "grandchild: 10 tags\n",
      "grandchild: 10 tags\n",
      "grandchild: 10 tags\n",
      "grandchild: 10 tags\n",
      "grandchild: 10 tags\n",
      "grandchild: 10 tags\n",
      "grandchild: 10 tags\n",
      "grandchild: 10 tags\n",
      "grandchild: 10 tags\n",
      "grandchild: 10 tags\n",
      "grandchild: 10 tags\n",
      "grandchild: 10 tags\n",
      "grandchild: 10 tags\n",
      "grandchild: 10 tags\n",
      "grandchild: 10 tags\n",
      "grandchild: 10 tags\n",
      "grandchild: 10 tags\n",
      "grandchild: 10 tags\n",
      "grandchild: 10 tags\n",
      "grandchild: 10 tags\n",
      "grandchild: 10 tags\n",
      "grandchild: 10 tags\n",
      "grandchild: 10 tags\n",
      "grandchild: 10 tags\n",
      "grandchild: 10 tags\n",
      "grandchild: 10 tags\n",
      "grandchild: 10 tags\n",
      "grandchild: 10 tags\n",
      "grandchild: 10 tags\n",
      "grandchild: 10 tags\n",
      "grandchild: 10 tags\n",
      "grandchild: 10 tags\n",
      "grandchild: 10 tags\n",
      "grandchild: 9 tags\n",
      "grandchild: 10 tags\n",
      "grandchild: 10 tags\n",
      "grandchild: 10 tags\n",
      "grandchild: 10 tags\n",
      "grandchild: 10 tags\n",
      "grandchild: 10 tags\n",
      "grandchild: 10 tags\n",
      "grandchild: 10 tags\n",
      "grandchild: 10 tags\n",
      "grandchild: 9 tags\n",
      "grandchild: 10 tags\n",
      "grandchild: 10 tags\n",
      "grandchild: 10 tags\n",
      "grandchild: 10 tags\n",
      "grandchild: 9 tags\n",
      "grandchild: 10 tags\n",
      "grandchild: 10 tags\n",
      "grandchild: 10 tags\n",
      "grandchild: 10 tags\n",
      "grandchild: 10 tags\n",
      "grandchild: 9 tags\n",
      "grandchild: 10 tags\n",
      "grandchild: 10 tags\n",
      "grandchild: 10 tags\n",
      "grandchild: 10 tags\n",
      "grandchild: 10 tags\n",
      "grandchild: 9 tags\n",
      "grandchild: 10 tags\n",
      "grandchild: 10 tags\n",
      "grandchild: 10 tags\n",
      "grandchild: 10 tags\n",
      "grandchild: 10 tags\n",
      "grandchild: 10 tags\n",
      "grandchild: 10 tags\n",
      "grandchild: 10 tags\n",
      "grandchild: 10 tags\n",
      "grandchild: 10 tags\n",
      "grandchild: 10 tags\n",
      "grandchild: 10 tags\n",
      "grandchild: 10 tags\n",
      "grandchild: 10 tags\n",
      "grandchild: 10 tags\n",
      "grandchild: 10 tags\n",
      "grandchild: 10 tags\n",
      "grandchild: 9 tags\n",
      "grandchild: 10 tags\n",
      "grandchild: 10 tags\n",
      "grandchild: 10 tags\n",
      "grandchild: 10 tags\n",
      "grandchild: 10 tags\n",
      "grandchild: 10 tags\n",
      "grandchild: 10 tags\n",
      "grandchild: 10 tags\n",
      "grandchild: 10 tags\n"
     ]
    }
   ],
   "source": [
    "# Your code here\n",
    "for child in root:\n",
    "    print('child: ' + str(child.tag))\n",
    "    for grandchild in child:\n",
    "        count = 0\n",
    "        for great in grandchild:\n",
    "            count +=1\n",
    "        print('grandchild: ' + str(count) + ' tags')\n",
    "        \n",
    "#10 different tags at the grandchild level?"
   ]
  },
  {
   "cell_type": "markdown",
   "metadata": {},
   "source": [
    "### Create a DataFrame listing the number of each type of tag. \n",
    "Sort the DataFrame in descending order by the tag count. The first entry should demonstrate there are 286 row tags in the XML file.   \n",
    "(Your DataFrame will be a single column, so could also be thought of as a Series.)"
   ]
  },
  {
   "cell_type": "code",
   "execution_count": 7,
   "metadata": {},
   "outputs": [],
   "source": [
    "import pandas as pd"
   ]
  },
  {
   "cell_type": "code",
   "execution_count": 44,
   "metadata": {},
   "outputs": [
    {
     "data": {
      "text/html": [
       "<div>\n",
       "<style scoped>\n",
       "    .dataframe tbody tr th:only-of-type {\n",
       "        vertical-align: middle;\n",
       "    }\n",
       "\n",
       "    .dataframe tbody tr th {\n",
       "        vertical-align: top;\n",
       "    }\n",
       "\n",
       "    .dataframe thead th {\n",
       "        text-align: right;\n",
       "    }\n",
       "</style>\n",
       "<table border=\"1\" class=\"dataframe\">\n",
       "  <thead>\n",
       "    <tr style=\"text-align: right;\">\n",
       "      <th></th>\n",
       "      <th>0</th>\n",
       "    </tr>\n",
       "  </thead>\n",
       "  <tbody>\n",
       "    <tr>\n",
       "      <th>row</th>\n",
       "      <td>286</td>\n",
       "    </tr>\n",
       "    <tr>\n",
       "      <th>candid</th>\n",
       "      <td>285</td>\n",
       "    </tr>\n",
       "    <tr>\n",
       "      <th>candname</th>\n",
       "      <td>285</td>\n",
       "    </tr>\n",
       "    <tr>\n",
       "      <th>canclass</th>\n",
       "      <td>285</td>\n",
       "    </tr>\n",
       "    <tr>\n",
       "      <th>election</th>\n",
       "      <td>284</td>\n",
       "    </tr>\n",
       "    <tr>\n",
       "      <th>officecd</th>\n",
       "      <td>284</td>\n",
       "    </tr>\n",
       "    <tr>\n",
       "      <th>primarypay</th>\n",
       "      <td>284</td>\n",
       "    </tr>\n",
       "    <tr>\n",
       "      <th>generalpay</th>\n",
       "      <td>284</td>\n",
       "    </tr>\n",
       "    <tr>\n",
       "      <th>runoffpay</th>\n",
       "      <td>284</td>\n",
       "    </tr>\n",
       "    <tr>\n",
       "      <th>totalpay</th>\n",
       "      <td>284</td>\n",
       "    </tr>\n",
       "    <tr>\n",
       "      <th>officedist</th>\n",
       "      <td>245</td>\n",
       "    </tr>\n",
       "    <tr>\n",
       "      <th>officeboro</th>\n",
       "      <td>21</td>\n",
       "    </tr>\n",
       "  </tbody>\n",
       "</table>\n",
       "</div>"
      ],
      "text/plain": [
       "              0\n",
       "row         286\n",
       "candid      285\n",
       "candname    285\n",
       "canclass    285\n",
       "election    284\n",
       "officecd    284\n",
       "primarypay  284\n",
       "generalpay  284\n",
       "runoffpay   284\n",
       "totalpay    284\n",
       "officedist  245\n",
       "officeboro   21"
      ]
     },
     "execution_count": 44,
     "metadata": {},
     "output_type": "execute_result"
    }
   ],
   "source": [
    "#Your code here\n",
    "df = pd.DataFrame()\n",
    "\n",
    "\n",
    "for child in root:\n",
    "    if child.tag not in df.columns:\n",
    "        df['{}'.format(child.tag)] = [1]\n",
    "    else:\n",
    "        df['{}'.format(child.tag)][0] +=1\n",
    "        \n",
    "    for grand in child:\n",
    "        if grand.tag not in df.columns:\n",
    "            df['{}'.format(grand.tag)] = [1]\n",
    "        else:\n",
    "            df['{}'.format(grand.tag)][0] += 1\n",
    "        for great in grand:\n",
    "            if great.tag not in df.columns:\n",
    "                df['{}'.format(great.tag)] = [1]\n",
    "            else:\n",
    "                df['{}'.format(great.tag)][0] += 1\n",
    "        \n",
    "df = df.transpose()\n",
    "df.sort_values(by = 0, ascending=False)"
   ]
  },
  {
   "cell_type": "markdown",
   "metadata": {},
   "source": [
    "## JSON"
   ]
  },
  {
   "cell_type": "markdown",
   "metadata": {},
   "source": [
    "### Open the same dataset from json"
   ]
  },
  {
   "cell_type": "code",
   "execution_count": 45,
   "metadata": {},
   "outputs": [],
   "source": [
    "import json\n",
    "f=open('nyc_2001_campaign_finance.json')\n",
    "data = json.load(open('nyc_2001_campaign_finance.json'))"
   ]
  },
  {
   "cell_type": "markdown",
   "metadata": {},
   "source": [
    "### What is the root data type of the json file?"
   ]
  },
  {
   "cell_type": "code",
   "execution_count": 46,
   "metadata": {},
   "outputs": [
    {
     "data": {
      "text/plain": [
       "dict"
      ]
     },
     "execution_count": 46,
     "metadata": {},
     "output_type": "execute_result"
    }
   ],
   "source": [
    "type(data)"
   ]
  },
  {
   "cell_type": "markdown",
   "metadata": {},
   "source": [
    "### Navigate to the 'data' key of your loaded json object. What data type is this?"
   ]
  },
  {
   "cell_type": "code",
   "execution_count": 51,
   "metadata": {},
   "outputs": [
    {
     "data": {
      "text/plain": [
       "[1,\n",
       " 'E3E9CC9F-7443-43F6-94AF-B5A0F802DBA1',\n",
       " 1,\n",
       " 1315925633,\n",
       " '392904',\n",
       " 1315925633,\n",
       " '392904',\n",
       " '{\\n  \"invalidCells\" : {\\n    \"1519001\" : \"TOTALPAY\",\\n    \"1518998\" : \"PRIMARYPAY\",\\n    \"1519000\" : \"RUNOFFPAY\",\\n    \"1518999\" : \"GENERALPAY\",\\n    \"1518994\" : \"OFFICECD\",\\n    \"1518996\" : \"OFFICEDIST\",\\n    \"1518991\" : \"ELECTION\"\\n  }\\n}',\n",
       " None,\n",
       " 'CANDID',\n",
       " 'CANDNAME',\n",
       " None,\n",
       " 'OFFICEBORO',\n",
       " None,\n",
       " 'CANCLASS',\n",
       " None,\n",
       " None,\n",
       " None,\n",
       " None]"
      ]
     },
     "execution_count": 51,
     "metadata": {},
     "output_type": "execute_result"
    }
   ],
   "source": [
    "data.keys()\n",
    "type(data['data'])\n",
    "data['data'][0]\n",
    "#list of lists"
   ]
  },
  {
   "cell_type": "markdown",
   "metadata": {},
   "source": [
    "### Preview the first entry from the value returned by the 'data' key above."
   ]
  },
  {
   "cell_type": "code",
   "execution_count": null,
   "metadata": {},
   "outputs": [],
   "source": [
    "#Your code here"
   ]
  },
  {
   "cell_type": "markdown",
   "metadata": {},
   "source": [
    "### Preview the Entry under meta -> view -> columns (the keys of three successively nested dictionaries)"
   ]
  },
  {
   "cell_type": "code",
   "execution_count": null,
   "metadata": {},
   "outputs": [],
   "source": []
  },
  {
   "cell_type": "markdown",
   "metadata": {},
   "source": [
    "### Create a DataFrame from your json data\n",
    "The previous two questions previewed one entry from the data object within the json file, as well as the column details associated with that data from the meta entry within the json file. Both should have 19 entries. Create a DataFrame of the data. Be sure to use the information from the meta entry to add appropriate column names to your DataFrame."
   ]
  },
  {
   "cell_type": "code",
   "execution_count": null,
   "metadata": {},
   "outputs": [],
   "source": [
    "#Your code here"
   ]
  },
  {
   "cell_type": "markdown",
   "metadata": {},
   "source": [
    "### What's wrong with the first row of the DataFrame?"
   ]
  },
  {
   "cell_type": "code",
   "execution_count": null,
   "metadata": {},
   "outputs": [],
   "source": [
    "#Your code here"
   ]
  },
  {
   "cell_type": "markdown",
   "metadata": {},
   "source": [
    "#Your answer here"
   ]
  },
  {
   "cell_type": "markdown",
   "metadata": {},
   "source": [
    "## Summary\n",
    "\n",
    "Congratulations! You've started exploring some more complicated data structures used for the web and got to practice data munging and exploring!"
   ]
  }
 ],
 "metadata": {
  "kernelspec": {
   "display_name": "Python 3",
   "language": "python",
   "name": "python3"
  },
  "language_info": {
   "codemirror_mode": {
    "name": "ipython",
    "version": 3
   },
   "file_extension": ".py",
   "mimetype": "text/x-python",
   "name": "python",
   "nbconvert_exporter": "python",
   "pygments_lexer": "ipython3",
   "version": "3.6.6"
  }
 },
 "nbformat": 4,
 "nbformat_minor": 2
}
