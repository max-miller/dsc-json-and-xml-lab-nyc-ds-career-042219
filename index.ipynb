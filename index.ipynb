{
 "cells": [
  {
   "cell_type": "markdown",
   "metadata": {},
   "source": [
    "# JSON and XML - Lab"
   ]
  },
  {
   "cell_type": "markdown",
   "metadata": {},
   "source": [
    "## Introduction\n",
    "\n",
    "In this lab, you'll practice navigating JSON and XML data structures."
   ]
  },
  {
   "cell_type": "markdown",
   "metadata": {},
   "source": [
    "## Objectives\n",
    "You will be able to:\n",
    "* Effectively use the JSON module to load and parse JSON documents\n",
    "* Read and access data stored in JSON and XML\n",
    "* Compare  and contrast the JSON and XML as data interchange types\n"
   ]
  },
  {
   "cell_type": "markdown",
   "metadata": {},
   "source": [
    "## XML"
   ]
  },
  {
   "cell_type": "code",
   "execution_count": 1,
   "metadata": {},
   "outputs": [],
   "source": [
    "import xml.etree.ElementTree as ET"
   ]
  },
  {
   "cell_type": "markdown",
   "metadata": {},
   "source": [
    "### Create an XML tree and retrieve the root tag."
   ]
  },
  {
   "cell_type": "code",
   "execution_count": 2,
   "metadata": {},
   "outputs": [],
   "source": [
    "tree = ET.parse('nyc_2001_campaign_finance.xml')\n",
    "root = tree.getroot()"
   ]
  },
  {
   "cell_type": "markdown",
   "metadata": {},
   "source": [
    "### How many direct descendents does the root tag have?"
   ]
  },
  {
   "cell_type": "code",
   "execution_count": 3,
   "metadata": {},
   "outputs": [
    {
     "name": "stdout",
     "output_type": "stream",
     "text": [
      "row\n"
     ]
    }
   ],
   "source": [
    "#Answer: 1\n",
    "for child in root:\n",
    "    print(child.tag)"
   ]
  },
  {
   "cell_type": "markdown",
   "metadata": {},
   "source": [
    "### How many different types of tags are there within the entire XML file?"
   ]
  },
  {
   "cell_type": "code",
   "execution_count": 6,
   "metadata": {},
   "outputs": [
    {
     "name": "stdout",
     "output_type": "stream",
     "text": [
      "child: row\n",
      "grandchild: 4 tags\n",
      "grandchild: 10 tags\n",
      "grandchild: 10 tags\n",
      "grandchild: 10 tags\n",
      "grandchild: 10 tags\n",
      "grandchild: 10 tags\n",
      "grandchild: 10 tags\n",
      "grandchild: 10 tags\n",
      "grandchild: 10 tags\n",
      "grandchild: 10 tags\n",
      "grandchild: 10 tags\n",
      "grandchild: 10 tags\n",
      "grandchild: 9 tags\n",
      "grandchild: 10 tags\n",
      "grandchild: 10 tags\n",
      "grandchild: 10 tags\n",
      "grandchild: 10 tags\n",
      "grandchild: 10 tags\n",
      "grandchild: 10 tags\n",
      "grandchild: 9 tags\n",
      "grandchild: 10 tags\n",
      "grandchild: 10 tags\n",
      "grandchild: 10 tags\n",
      "grandchild: 10 tags\n",
      "grandchild: 10 tags\n",
      "grandchild: 10 tags\n",
      "grandchild: 10 tags\n",
      "grandchild: 10 tags\n",
      "grandchild: 10 tags\n",
      "grandchild: 10 tags\n",
      "grandchild: 10 tags\n",
      "grandchild: 10 tags\n",
      "grandchild: 10 tags\n",
      "grandchild: 10 tags\n",
      "grandchild: 10 tags\n",
      "grandchild: 10 tags\n",
      "grandchild: 10 tags\n",
      "grandchild: 10 tags\n",
      "grandchild: 10 tags\n",
      "grandchild: 10 tags\n",
      "grandchild: 10 tags\n",
      "grandchild: 10 tags\n",
      "grandchild: 10 tags\n",
      "grandchild: 10 tags\n",
      "grandchild: 10 tags\n",
      "grandchild: 9 tags\n",
      "grandchild: 10 tags\n",
      "grandchild: 10 tags\n",
      "grandchild: 10 tags\n",
      "grandchild: 10 tags\n",
      "grandchild: 10 tags\n",
      "grandchild: 10 tags\n",
      "grandchild: 10 tags\n",
      "grandchild: 10 tags\n",
      "grandchild: 10 tags\n",
      "grandchild: 10 tags\n",
      "grandchild: 10 tags\n",
      "grandchild: 10 tags\n",
      "grandchild: 10 tags\n",
      "grandchild: 9 tags\n",
      "grandchild: 10 tags\n",
      "grandchild: 10 tags\n",
      "grandchild: 10 tags\n",
      "grandchild: 10 tags\n",
      "grandchild: 10 tags\n",
      "grandchild: 10 tags\n",
      "grandchild: 10 tags\n",
      "grandchild: 10 tags\n",
      "grandchild: 10 tags\n",
      "grandchild: 10 tags\n",
      "grandchild: 10 tags\n",
      "grandchild: 10 tags\n",
      "grandchild: 10 tags\n",
      "grandchild: 9 tags\n",
      "grandchild: 10 tags\n",
      "grandchild: 10 tags\n",
      "grandchild: 10 tags\n",
      "grandchild: 10 tags\n",
      "grandchild: 9 tags\n",
      "grandchild: 10 tags\n",
      "grandchild: 10 tags\n",
      "grandchild: 10 tags\n",
      "grandchild: 10 tags\n",
      "grandchild: 10 tags\n",
      "grandchild: 9 tags\n",
      "grandchild: 10 tags\n",
      "grandchild: 10 tags\n",
      "grandchild: 10 tags\n",
      "grandchild: 10 tags\n",
      "grandchild: 10 tags\n",
      "grandchild: 10 tags\n",
      "grandchild: 10 tags\n",
      "grandchild: 10 tags\n",
      "grandchild: 9 tags\n",
      "grandchild: 10 tags\n",
      "grandchild: 10 tags\n",
      "grandchild: 9 tags\n",
      "grandchild: 10 tags\n",
      "grandchild: 10 tags\n",
      "grandchild: 9 tags\n",
      "grandchild: 10 tags\n",
      "grandchild: 10 tags\n",
      "grandchild: 10 tags\n",
      "grandchild: 10 tags\n",
      "grandchild: 10 tags\n",
      "grandchild: 10 tags\n",
      "grandchild: 10 tags\n",
      "grandchild: 10 tags\n",
      "grandchild: 9 tags\n",
      "grandchild: 10 tags\n",
      "grandchild: 10 tags\n",
      "grandchild: 10 tags\n",
      "grandchild: 10 tags\n",
      "grandchild: 10 tags\n",
      "grandchild: 10 tags\n",
      "grandchild: 10 tags\n",
      "grandchild: 10 tags\n",
      "grandchild: 10 tags\n",
      "grandchild: 10 tags\n",
      "grandchild: 10 tags\n",
      "grandchild: 10 tags\n",
      "grandchild: 10 tags\n",
      "grandchild: 10 tags\n",
      "grandchild: 10 tags\n",
      "grandchild: 10 tags\n",
      "grandchild: 10 tags\n",
      "grandchild: 10 tags\n",
      "grandchild: 10 tags\n",
      "grandchild: 10 tags\n",
      "grandchild: 10 tags\n",
      "grandchild: 10 tags\n",
      "grandchild: 10 tags\n",
      "grandchild: 10 tags\n",
      "grandchild: 10 tags\n",
      "grandchild: 10 tags\n",
      "grandchild: 10 tags\n",
      "grandchild: 9 tags\n",
      "grandchild: 10 tags\n",
      "grandchild: 10 tags\n",
      "grandchild: 10 tags\n",
      "grandchild: 10 tags\n",
      "grandchild: 9 tags\n",
      "grandchild: 10 tags\n",
      "grandchild: 10 tags\n",
      "grandchild: 10 tags\n",
      "grandchild: 10 tags\n",
      "grandchild: 10 tags\n",
      "grandchild: 10 tags\n",
      "grandchild: 10 tags\n",
      "grandchild: 10 tags\n",
      "grandchild: 10 tags\n",
      "grandchild: 10 tags\n",
      "grandchild: 10 tags\n",
      "grandchild: 10 tags\n",
      "grandchild: 10 tags\n",
      "grandchild: 10 tags\n",
      "grandchild: 10 tags\n",
      "grandchild: 10 tags\n",
      "grandchild: 10 tags\n",
      "grandchild: 10 tags\n",
      "grandchild: 10 tags\n",
      "grandchild: 10 tags\n",
      "grandchild: 10 tags\n",
      "grandchild: 10 tags\n",
      "grandchild: 10 tags\n",
      "grandchild: 10 tags\n",
      "grandchild: 10 tags\n",
      "grandchild: 10 tags\n",
      "grandchild: 10 tags\n",
      "grandchild: 10 tags\n",
      "grandchild: 10 tags\n",
      "grandchild: 10 tags\n",
      "grandchild: 10 tags\n",
      "grandchild: 10 tags\n",
      "grandchild: 10 tags\n",
      "grandchild: 10 tags\n",
      "grandchild: 10 tags\n",
      "grandchild: 10 tags\n",
      "grandchild: 10 tags\n",
      "grandchild: 10 tags\n",
      "grandchild: 10 tags\n",
      "grandchild: 10 tags\n",
      "grandchild: 10 tags\n",
      "grandchild: 10 tags\n",
      "grandchild: 10 tags\n",
      "grandchild: 10 tags\n",
      "grandchild: 10 tags\n",
      "grandchild: 10 tags\n",
      "grandchild: 10 tags\n",
      "grandchild: 10 tags\n",
      "grandchild: 10 tags\n",
      "grandchild: 10 tags\n",
      "grandchild: 10 tags\n",
      "grandchild: 10 tags\n",
      "grandchild: 10 tags\n",
      "grandchild: 10 tags\n",
      "grandchild: 10 tags\n",
      "grandchild: 10 tags\n",
      "grandchild: 10 tags\n",
      "grandchild: 10 tags\n",
      "grandchild: 10 tags\n",
      "grandchild: 10 tags\n",
      "grandchild: 10 tags\n",
      "grandchild: 10 tags\n",
      "grandchild: 10 tags\n",
      "grandchild: 10 tags\n",
      "grandchild: 10 tags\n",
      "grandchild: 10 tags\n",
      "grandchild: 10 tags\n",
      "grandchild: 10 tags\n",
      "grandchild: 10 tags\n",
      "grandchild: 10 tags\n",
      "grandchild: 10 tags\n",
      "grandchild: 10 tags\n",
      "grandchild: 10 tags\n",
      "grandchild: 10 tags\n",
      "grandchild: 10 tags\n",
      "grandchild: 10 tags\n",
      "grandchild: 10 tags\n",
      "grandchild: 10 tags\n",
      "grandchild: 10 tags\n",
      "grandchild: 10 tags\n",
      "grandchild: 10 tags\n",
      "grandchild: 10 tags\n",
      "grandchild: 10 tags\n",
      "grandchild: 10 tags\n",
      "grandchild: 10 tags\n",
      "grandchild: 10 tags\n",
      "grandchild: 10 tags\n",
      "grandchild: 10 tags\n",
      "grandchild: 9 tags\n",
      "grandchild: 10 tags\n",
      "grandchild: 10 tags\n",
      "grandchild: 10 tags\n",
      "grandchild: 10 tags\n",
      "grandchild: 10 tags\n",
      "grandchild: 10 tags\n",
      "grandchild: 10 tags\n",
      "grandchild: 10 tags\n",
      "grandchild: 10 tags\n",
      "grandchild: 9 tags\n",
      "grandchild: 10 tags\n",
      "grandchild: 10 tags\n",
      "grandchild: 10 tags\n",
      "grandchild: 10 tags\n",
      "grandchild: 9 tags\n",
      "grandchild: 10 tags\n",
      "grandchild: 10 tags\n",
      "grandchild: 10 tags\n",
      "grandchild: 10 tags\n",
      "grandchild: 10 tags\n",
      "grandchild: 9 tags\n",
      "grandchild: 10 tags\n",
      "grandchild: 10 tags\n",
      "grandchild: 10 tags\n",
      "grandchild: 10 tags\n",
      "grandchild: 10 tags\n",
      "grandchild: 9 tags\n",
      "grandchild: 10 tags\n",
      "grandchild: 10 tags\n",
      "grandchild: 10 tags\n",
      "grandchild: 10 tags\n",
      "grandchild: 10 tags\n",
      "grandchild: 10 tags\n",
      "grandchild: 10 tags\n",
      "grandchild: 10 tags\n",
      "grandchild: 10 tags\n",
      "grandchild: 10 tags\n",
      "grandchild: 10 tags\n",
      "grandchild: 10 tags\n",
      "grandchild: 10 tags\n",
      "grandchild: 10 tags\n",
      "grandchild: 10 tags\n",
      "grandchild: 10 tags\n",
      "grandchild: 10 tags\n",
      "grandchild: 9 tags\n",
      "grandchild: 10 tags\n",
      "grandchild: 10 tags\n",
      "grandchild: 10 tags\n",
      "grandchild: 10 tags\n",
      "grandchild: 10 tags\n",
      "grandchild: 10 tags\n",
      "grandchild: 10 tags\n",
      "grandchild: 10 tags\n",
      "grandchild: 10 tags\n"
     ]
    }
   ],
   "source": [
    "# Your code here\n",
    "for child in root:\n",
    "    print('child: ' + str(child.tag))\n",
    "    for grandchild in child:\n",
    "        count = 0\n",
    "        for great in grandchild:\n",
    "            count +=1\n",
    "        print('grandchild: ' + str(count) + ' tags')\n",
    "        \n",
    "#10 different tags at the grandchild level?"
   ]
  },
  {
   "cell_type": "markdown",
   "metadata": {},
   "source": [
    "### Create a DataFrame listing the number of each type of tag. \n",
    "Sort the DataFrame in descending order by the tag count. The first entry should demonstrate there are 286 row tags in the XML file.   \n",
    "(Your DataFrame will be a single column, so could also be thought of as a Series.)"
   ]
  },
  {
   "cell_type": "code",
   "execution_count": 7,
   "metadata": {},
   "outputs": [],
   "source": [
    "import pandas as pd"
   ]
  },
  {
   "cell_type": "code",
   "execution_count": 25,
   "metadata": {},
   "outputs": [
    {
     "ename": "AttributeError",
     "evalue": "'DataFrame' object has no attribute 'rows'",
     "output_type": "error",
     "traceback": [
      "\u001b[0;31m\u001b[0m",
      "\u001b[0;31mAttributeError\u001b[0mTraceback (most recent call last)",
      "\u001b[0;32m<ipython-input-25-5d773b3b2a6b>\u001b[0m in \u001b[0;36m<module>\u001b[0;34m()\u001b[0m\n\u001b[1;32m      9\u001b[0m         \u001b[0mdf\u001b[0m\u001b[0;34m[\u001b[0m\u001b[0;34m'{}'\u001b[0m\u001b[0;34m.\u001b[0m\u001b[0mformat\u001b[0m\u001b[0;34m(\u001b[0m\u001b[0mchild\u001b[0m\u001b[0;34m.\u001b[0m\u001b[0mtag\u001b[0m\u001b[0;34m)\u001b[0m\u001b[0;34m]\u001b[0m \u001b[0;34m+=\u001b[0m\u001b[0;36m1\u001b[0m\u001b[0;34m\u001b[0m\u001b[0m\n\u001b[1;32m     10\u001b[0m \u001b[0;34m\u001b[0m\u001b[0m\n\u001b[0;32m---> 11\u001b[0;31m \u001b[0mdf\u001b[0m\u001b[0;34m.\u001b[0m\u001b[0mrows\u001b[0m\u001b[0;34m\u001b[0m\u001b[0m\n\u001b[0m",
      "\u001b[0;32m/opt/conda/envs/learn-env/lib/python3.6/site-packages/pandas/core/generic.py\u001b[0m in \u001b[0;36m__getattr__\u001b[0;34m(self, name)\u001b[0m\n\u001b[1;32m   4374\u001b[0m             \u001b[0;32mif\u001b[0m \u001b[0mself\u001b[0m\u001b[0;34m.\u001b[0m\u001b[0m_info_axis\u001b[0m\u001b[0;34m.\u001b[0m\u001b[0m_can_hold_identifiers_and_holds_name\u001b[0m\u001b[0;34m(\u001b[0m\u001b[0mname\u001b[0m\u001b[0;34m)\u001b[0m\u001b[0;34m:\u001b[0m\u001b[0;34m\u001b[0m\u001b[0m\n\u001b[1;32m   4375\u001b[0m                 \u001b[0;32mreturn\u001b[0m \u001b[0mself\u001b[0m\u001b[0;34m[\u001b[0m\u001b[0mname\u001b[0m\u001b[0;34m]\u001b[0m\u001b[0;34m\u001b[0m\u001b[0m\n\u001b[0;32m-> 4376\u001b[0;31m             \u001b[0;32mreturn\u001b[0m \u001b[0mobject\u001b[0m\u001b[0;34m.\u001b[0m\u001b[0m__getattribute__\u001b[0m\u001b[0;34m(\u001b[0m\u001b[0mself\u001b[0m\u001b[0;34m,\u001b[0m \u001b[0mname\u001b[0m\u001b[0;34m)\u001b[0m\u001b[0;34m\u001b[0m\u001b[0m\n\u001b[0m\u001b[1;32m   4377\u001b[0m \u001b[0;34m\u001b[0m\u001b[0m\n\u001b[1;32m   4378\u001b[0m     \u001b[0;32mdef\u001b[0m \u001b[0m__setattr__\u001b[0m\u001b[0;34m(\u001b[0m\u001b[0mself\u001b[0m\u001b[0;34m,\u001b[0m \u001b[0mname\u001b[0m\u001b[0;34m,\u001b[0m \u001b[0mvalue\u001b[0m\u001b[0;34m)\u001b[0m\u001b[0;34m:\u001b[0m\u001b[0;34m\u001b[0m\u001b[0m\n",
      "\u001b[0;31mAttributeError\u001b[0m: 'DataFrame' object has no attribute 'rows'"
     ]
    }
   ],
   "source": [
    "#Your code here\n",
    "df = pd.DataFrame({'tag':[],'count':[]})\n",
    "df.set_index('tag')\n",
    "\n",
    "for child in root:\n",
    "    if child.tag not in df.index:\n",
    "        df['{}'.format(child.tag)] = 1\n",
    "    else:\n",
    "        df['{}'.format(child.tag)] +=1\n",
    "        \n",
    "df.rows"
   ]
  },
  {
   "cell_type": "markdown",
   "metadata": {},
   "source": [
    "## JSON"
   ]
  },
  {
   "cell_type": "markdown",
   "metadata": {},
   "source": [
    "### Open the same dataset from json"
   ]
  },
  {
   "cell_type": "code",
   "execution_count": null,
   "metadata": {},
   "outputs": [],
   "source": [
    "#Your code here"
   ]
  },
  {
   "cell_type": "markdown",
   "metadata": {},
   "source": [
    "### What is the root data type of the json file?"
   ]
  },
  {
   "cell_type": "code",
   "execution_count": null,
   "metadata": {},
   "outputs": [],
   "source": [
    "### Your code here"
   ]
  },
  {
   "cell_type": "markdown",
   "metadata": {},
   "source": [
    "### Navigate to the 'data' key of your loaded json object. What data type is this?"
   ]
  },
  {
   "cell_type": "code",
   "execution_count": null,
   "metadata": {},
   "outputs": [],
   "source": [
    "#Your code here"
   ]
  },
  {
   "cell_type": "markdown",
   "metadata": {},
   "source": [
    "### Preview the first entry from the value returned by the 'data' key above."
   ]
  },
  {
   "cell_type": "code",
   "execution_count": null,
   "metadata": {},
   "outputs": [],
   "source": [
    "#Your code here"
   ]
  },
  {
   "cell_type": "markdown",
   "metadata": {},
   "source": [
    "### Preview the Entry under meta -> view -> columns (the keys of three successively nested dictionaries)"
   ]
  },
  {
   "cell_type": "code",
   "execution_count": null,
   "metadata": {},
   "outputs": [],
   "source": []
  },
  {
   "cell_type": "markdown",
   "metadata": {},
   "source": [
    "### Create a DataFrame from your json data\n",
    "The previous two questions previewed one entry from the data object within the json file, as well as the column details associated with that data from the meta entry within the json file. Both should have 19 entries. Create a DataFrame of the data. Be sure to use the information from the meta entry to add appropriate column names to your DataFrame."
   ]
  },
  {
   "cell_type": "code",
   "execution_count": null,
   "metadata": {},
   "outputs": [],
   "source": [
    "#Your code here"
   ]
  },
  {
   "cell_type": "markdown",
   "metadata": {},
   "source": [
    "### What's wrong with the first row of the DataFrame?"
   ]
  },
  {
   "cell_type": "code",
   "execution_count": null,
   "metadata": {},
   "outputs": [],
   "source": [
    "#Your code here"
   ]
  },
  {
   "cell_type": "markdown",
   "metadata": {},
   "source": [
    "#Your answer here"
   ]
  },
  {
   "cell_type": "markdown",
   "metadata": {},
   "source": [
    "## Summary\n",
    "\n",
    "Congratulations! You've started exploring some more complicated data structures used for the web and got to practice data munging and exploring!"
   ]
  }
 ],
 "metadata": {
  "kernelspec": {
   "display_name": "Python 3",
   "language": "python",
   "name": "python3"
  },
  "language_info": {
   "codemirror_mode": {
    "name": "ipython",
    "version": 3
   },
   "file_extension": ".py",
   "mimetype": "text/x-python",
   "name": "python",
   "nbconvert_exporter": "python",
   "pygments_lexer": "ipython3",
   "version": "3.6.6"
  }
 },
 "nbformat": 4,
 "nbformat_minor": 2
}
